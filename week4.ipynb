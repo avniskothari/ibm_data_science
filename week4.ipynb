{
 "cells": [
  {
   "cell_type": "markdown",
   "metadata": {},
   "source": [
    "# Coursera Capstone Final Report\n",
    "\n",
    "Story :\n",
    "I am going to Paris next month, So i need to find a living place for myself. I am about to complete coursera IBM Data Science Professional Certificate Specialization therefore i have to show my Data Science skill to find a good place in Paris.\n",
    "\n",
    "This notebook will contain the code to scrape the data from internet with the help of Beautiful Soup and Requests.\n",
    "<br/>\n",
    "Plotting Graphs will be there to see the relations between different features of the data\n",
    "<br/>\n",
    "Choropleth Graph will be ploted with the help of Folium\n",
    "\n",
    "    \n",
    "Let's get started!"
   ]
  },
  {
   "cell_type": "markdown",
   "metadata": {},
   "source": [
    "## Importing Libraries"
   ]
  },
  {
   "cell_type": "code",
   "execution_count": 1,
   "metadata": {},
   "outputs": [],
   "source": [
    "import requests\n",
    "from bs4 import BeautifulSoup\n",
    "import json\n",
    "\n",
    "import numpy as np\n",
    "import pandas as pd\n",
    "%matplotlib inline\n",
    "import matplotlib.pyplot as plt\n",
    "plt.style.use('seaborn')\n",
    "\n",
    "import seaborn as sns\n",
    "\n",
    "import time\n",
    "import tqdm\n",
    "\n"
   ]
  },
  {
   "cell_type": "markdown",
   "metadata": {},
   "source": [
    "# Getting the data: Scraping"
   ]
  },
  {
   "cell_type": "markdown",
   "metadata": {},
   "source": [
    "We will scrap the data from a website name seloger.com. \n",
    "We will scrap script tags which are in source code of the page and the parse the information with the help of BeautifulSoup.\n",
    "\n",
    "Below is the search-url of 2-rooms apartment.\n"
   ]
  },
  {
   "cell_type": "code",
   "execution_count": 2,
   "metadata": {},
   "outputs": [],
   "source": [
    "# This is search-url with different parameters\n",
    "url = 'https://www.seloger.com/list.htm?org=advanced_search&idtt=1&idtypebien=1&cp=75&tri=initial&nb_pieces=2&naturebien=1,2,4&LISTING-LISTpg=2'"
   ]
  },
  {
   "cell_type": "markdown",
   "metadata": {},
   "source": [
    "We are using custom headers for making request to pretent ourself as web browser.\n",
    "We are doing so because sometimes webpages block the ip after so many requests"
   ]
  },
  {
   "cell_type": "code",
   "execution_count": 3,
   "metadata": {},
   "outputs": [],
   "source": [
    "headers = {'User-Agent': '*',\n",
    "'Accept': 'text/html,application/xhtml+xml,application/xml;q=0.9,*/*;q=0.8',\n",
    "'Accept-Language': 'en-US,en;q=0.5',\n",
    "'Accept-Encoding': 'gzip, deflate',\n",
    "'Connection': 'keep-alive',\n",
    "'Upgrade-Insecure-Requests': '1'}"
   ]
  },
  {
   "cell_type": "code",
   "execution_count": 4,
   "metadata": {},
   "outputs": [
    {
     "data": {
      "text/plain": [
       "<Response [200]>"
      ]
     },
     "execution_count": 4,
     "metadata": {},
     "output_type": "execute_result"
    }
   ],
   "source": [
    "s = requests.Session()\n",
    "s.headers.update(headers)\n",
    "s.get('http://www.seloger.com/')"
   ]
  },
  {
   "cell_type": "markdown",
   "metadata": {},
   "source": [
    "Now we will iterate over different pages and we will find the script tag from the source code.\n",
    "<br/>\n",
    "There is a script tag which contain the details of Apartments.\n",
    "<br/>\n",
    "we will parse that details with help of json and retrieve the products/apartments from them and store in our apartment_data list"
   ]
  },
  {
   "cell_type": "code",
   "execution_count": 5,
   "metadata": {},
   "outputs": [
    {
     "data": {
      "application/vnd.jupyter.widget-view+json": {
       "model_id": "151654c32e28477e8d3aae46994ba755",
       "version_major": 2,
       "version_minor": 0
      },
      "text/html": [
       "<p>Failed to display Jupyter Widget of type <code>HBox</code>.</p>\n",
       "<p>\n",
       "  If you're reading this message in the Jupyter Notebook or JupyterLab Notebook, it may mean\n",
       "  that the widgets JavaScript is still loading. If this message persists, it\n",
       "  likely means that the widgets JavaScript library is either not installed or\n",
       "  not enabled. See the <a href=\"https://ipywidgets.readthedocs.io/en/stable/user_install.html\">Jupyter\n",
       "  Widgets Documentation</a> for setup instructions.\n",
       "</p>\n",
       "<p>\n",
       "  If you're reading this message in another frontend (for example, a static\n",
       "  rendering on GitHub or <a href=\"https://nbviewer.jupyter.org/\">NBViewer</a>),\n",
       "  it may mean that your frontend doesn't currently support widgets.\n",
       "</p>\n"
      ],
      "text/plain": [
       "HBox(children=(IntProgress(value=0, max=111), HTML(value='')))"
      ]
     },
     "metadata": {},
     "output_type": "display_data"
    },
    {
     "name": "stdout",
     "output_type": "stream",
     "text": [
      "\n"
     ]
    }
   ],
   "source": [
    "appartment_data = []\n",
    "for i in tqdm.tqdm_notebook(range(2, 113)):\n",
    "    url = url[:-1] + str(i)\n",
    "    r = s.get(url, headers=headers)\n",
    "    time.sleep(np.random.uniform(low=1, high=5)) \n",
    "    if r.status_code == 200:\n",
    "        soup = BeautifulSoup(r.text, 'html.parser')\n",
    "        for script_item in soup.find_all('script'):\n",
    "            if 'var ava_data' in script_item.text:\n",
    "                raw_json = script_item.text.split('=')[1][:-23]\n",
    "        data = json.loads(raw_json)['products']\n",
    "        appartment_data.append(data)"
   ]
  },
  {
   "cell_type": "markdown",
   "metadata": {},
   "source": [
    "## Data to DataFrame\n",
    "\n",
    "Lets create a big dataframe from the scraped data.\n",
    "<br/>\n",
    "lets create a function to convert list to dataframe."
   ]
  },
  {
   "cell_type": "code",
   "execution_count": 6,
   "metadata": {},
   "outputs": [],
   "source": [
    "def create_df(appartment_data):\n",
    "    \n",
    "    df = pd.concat([pd.DataFrame(item) for item in appartment_data])\n",
    "    df = df.dropna()\n",
    "    df = df.drop(['affichagetype', 'typedetransaction'], axis=1)\n",
    "    df = df.drop_duplicates()\n",
    "    df = df[['codeinsee', 'codepostal', 'etage', 'idagence', 'idannonce', 'idtiers', 'nb_photos',\n",
    "            'position', 'prix', 'si_balcon', 'surface']]\n",
    "    df = df.apply(lambda s: pd.to_numeric(s.str.replace(',', '.')))\n",
    "    # filter out zero surface appartments\n",
    "    df = df[~(df.surface == 0)]\n",
    "    \n",
    "    return df\n"
   ]
  },
  {
   "cell_type": "code",
   "execution_count": 13,
   "metadata": {},
   "outputs": [
    {
     "data": {
      "text/plain": [
       "(219, 11)"
      ]
     },
     "execution_count": 13,
     "metadata": {},
     "output_type": "execute_result"
    }
   ],
   "source": [
    "df = create_df(appartment_data)\n",
    "df.shape"
   ]
  },
  {
   "cell_type": "code",
   "execution_count": 14,
   "metadata": {},
   "outputs": [],
   "source": [
    "df=df.rename(columns={\n",
    "    'codeinsee':'INSEE_code',\n",
    "    'etage':'floor',\n",
    "    'prix':'price',\n",
    "    'si_balcon':'balcony',\n",
    "})"
   ]
  },
  {
   "cell_type": "code",
   "execution_count": 15,
   "metadata": {},
   "outputs": [
    {
     "data": {
      "text/html": [
       "<div>\n",
       "<style scoped>\n",
       "    .dataframe tbody tr th:only-of-type {\n",
       "        vertical-align: middle;\n",
       "    }\n",
       "\n",
       "    .dataframe tbody tr th {\n",
       "        vertical-align: top;\n",
       "    }\n",
       "\n",
       "    .dataframe thead th {\n",
       "        text-align: right;\n",
       "    }\n",
       "</style>\n",
       "<table border=\"1\" class=\"dataframe\">\n",
       "  <thead>\n",
       "    <tr style=\"text-align: right;\">\n",
       "      <th></th>\n",
       "      <th>INSEE_code</th>\n",
       "      <th>codepostal</th>\n",
       "      <th>floor</th>\n",
       "      <th>idagence</th>\n",
       "      <th>idannonce</th>\n",
       "      <th>idtiers</th>\n",
       "      <th>nb_photos</th>\n",
       "      <th>position</th>\n",
       "      <th>price</th>\n",
       "      <th>balcony</th>\n",
       "      <th>surface</th>\n",
       "    </tr>\n",
       "  </thead>\n",
       "  <tbody>\n",
       "    <tr>\n",
       "      <th>0</th>\n",
       "      <td>750116</td>\n",
       "      <td>75116</td>\n",
       "      <td>0</td>\n",
       "      <td>156068</td>\n",
       "      <td>147793291</td>\n",
       "      <td>178982</td>\n",
       "      <td>8</td>\n",
       "      <td>0</td>\n",
       "      <td>1500</td>\n",
       "      <td>0</td>\n",
       "      <td>30.05</td>\n",
       "    </tr>\n",
       "    <tr>\n",
       "      <th>1</th>\n",
       "      <td>750116</td>\n",
       "      <td>75016</td>\n",
       "      <td>0</td>\n",
       "      <td>227641</td>\n",
       "      <td>148083277</td>\n",
       "      <td>263422</td>\n",
       "      <td>6</td>\n",
       "      <td>1</td>\n",
       "      <td>1360</td>\n",
       "      <td>1</td>\n",
       "      <td>41.00</td>\n",
       "    </tr>\n",
       "    <tr>\n",
       "      <th>2</th>\n",
       "      <td>750113</td>\n",
       "      <td>75013</td>\n",
       "      <td>0</td>\n",
       "      <td>109207</td>\n",
       "      <td>147585167</td>\n",
       "      <td>164701</td>\n",
       "      <td>13</td>\n",
       "      <td>2</td>\n",
       "      <td>1470</td>\n",
       "      <td>0</td>\n",
       "      <td>41.31</td>\n",
       "    </tr>\n",
       "    <tr>\n",
       "      <th>3</th>\n",
       "      <td>750117</td>\n",
       "      <td>75017</td>\n",
       "      <td>0</td>\n",
       "      <td>188694</td>\n",
       "      <td>147988845</td>\n",
       "      <td>244572</td>\n",
       "      <td>9</td>\n",
       "      <td>3</td>\n",
       "      <td>1580</td>\n",
       "      <td>1</td>\n",
       "      <td>47.00</td>\n",
       "    </tr>\n",
       "    <tr>\n",
       "      <th>4</th>\n",
       "      <td>750115</td>\n",
       "      <td>75015</td>\n",
       "      <td>0</td>\n",
       "      <td>102541</td>\n",
       "      <td>145643953</td>\n",
       "      <td>153256</td>\n",
       "      <td>8</td>\n",
       "      <td>4</td>\n",
       "      <td>1695</td>\n",
       "      <td>0</td>\n",
       "      <td>60.00</td>\n",
       "    </tr>\n",
       "  </tbody>\n",
       "</table>\n",
       "</div>"
      ],
      "text/plain": [
       "   INSEE_code  codepostal  floor  idagence  idannonce  idtiers  nb_photos  \\\n",
       "0      750116       75116      0    156068  147793291   178982          8   \n",
       "1      750116       75016      0    227641  148083277   263422          6   \n",
       "2      750113       75013      0    109207  147585167   164701         13   \n",
       "3      750117       75017      0    188694  147988845   244572          9   \n",
       "4      750115       75015      0    102541  145643953   153256          8   \n",
       "\n",
       "   position  price  balcony  surface  \n",
       "0         0   1500        0    30.05  \n",
       "1         1   1360        1    41.00  \n",
       "2         2   1470        0    41.31  \n",
       "3         3   1580        1    47.00  \n",
       "4         4   1695        0    60.00  "
      ]
     },
     "execution_count": 15,
     "metadata": {},
     "output_type": "execute_result"
    }
   ],
   "source": [
    "df.head()"
   ]
  },
  {
   "cell_type": "code",
   "execution_count": null,
   "metadata": {},
   "outputs": [],
   "source": []
  }
 ],
 "metadata": {
  "kernelspec": {
   "display_name": "Python 3",
   "language": "python",
   "name": "python3"
  },
  "language_info": {
   "codemirror_mode": {
    "name": "ipython",
    "version": 3
   },
   "file_extension": ".py",
   "mimetype": "text/x-python",
   "name": "python",
   "nbconvert_exporter": "python",
   "pygments_lexer": "ipython3",
   "version": "3.6.8"
  },
  "toc": {
   "colors": {
    "hover_highlight": "#DAA520",
    "navigate_num": "#000000",
    "navigate_text": "#333333",
    "running_highlight": "#FF0000",
    "selected_highlight": "#FFD700",
    "sidebar_border": "#EEEEEE",
    "wrapper_background": "#FFFFFF"
   },
   "moveMenuLeft": true,
   "nav_menu": {
    "height": "262px",
    "width": "253px"
   },
   "navigate_menu": true,
   "number_sections": true,
   "sideBar": true,
   "threshold": 4,
   "toc_cell": false,
   "toc_section_display": "block",
   "toc_window_display": false,
   "widenNotebook": false
  }
 },
 "nbformat": 4,
 "nbformat_minor": 2
}
